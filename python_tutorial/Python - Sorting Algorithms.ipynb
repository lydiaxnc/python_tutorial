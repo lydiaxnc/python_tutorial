{
 "cells": [
  {
   "cell_type": "markdown",
   "metadata": {},
   "source": [
    "function to generate a random list of number"
   ]
  },
  {
   "cell_type": "code",
   "execution_count": 123,
   "metadata": {
    "collapsed": false
   },
   "outputs": [],
   "source": [
    "import random"
   ]
  },
  {
   "cell_type": "code",
   "execution_count": 124,
   "metadata": {
    "collapsed": true
   },
   "outputs": [],
   "source": [
    "def random_list(items_in_list, min_number, max_number): \n",
    "    l = []\n",
    "    for x in range(items_in_list):\n",
    "        l.append(random.randint(min_number, max_number))\n",
    "    return l"
   ]
  },
  {
   "cell_type": "code",
   "execution_count": 125,
   "metadata": {
    "collapsed": false
   },
   "outputs": [
    {
     "data": {
      "text/plain": [
       "[3, 8, 0, 5, 2]"
      ]
     },
     "execution_count": 125,
     "metadata": {},
     "output_type": "execute_result"
    }
   ],
   "source": [
    "## test to get 5 numbers from 0-10\n",
    "random_list(5,0,10)"
   ]
  },
  {
   "cell_type": "markdown",
   "metadata": {},
   "source": [
    "## Bubble Sort"
   ]
  },
  {
   "cell_type": "markdown",
   "metadata": {},
   "source": [
    "Compare 2 numbers at a time and switch them if they are not in order.\n",
    "* http://www.algolist.net/Algorithms/Sorting/Bubble_sort \n",
    "* https://www.youtube.com/watch?v=8Kp-8OGwphY (video)"
   ]
  },
  {
   "cell_type": "code",
   "execution_count": 159,
   "metadata": {
    "collapsed": false
   },
   "outputs": [],
   "source": [
    "def bubble_sort(unsorted): \n",
    "    for x in range(len(unsorted)-1):\n",
    "        for y in range(len(unsorted)-1):\n",
    "            if unsorted[y+1] < unsorted[y]:\n",
    "                unsorted[y], unsorted[y+1] = unsorted[y+1],unsorted[y]\n",
    "    return unsorted"
   ]
  },
  {
   "cell_type": "code",
   "execution_count": 160,
   "metadata": {
    "collapsed": false
   },
   "outputs": [
    {
     "name": "stdout",
     "output_type": "stream",
     "text": [
      "[1, -5, 1, -5, 10]\n"
     ]
    }
   ],
   "source": [
    "l = random_list(5,-5,10)\n",
    "print l"
   ]
  },
  {
   "cell_type": "code",
   "execution_count": 161,
   "metadata": {
    "collapsed": false
   },
   "outputs": [
    {
     "name": "stdout",
     "output_type": "stream",
     "text": [
      "[-5, -5, 1, 1, 10]\n"
     ]
    }
   ],
   "source": [
    "print bubble_sort(l)"
   ]
  },
  {
   "cell_type": "markdown",
   "metadata": {},
   "source": [
    "### * Steps of the sorting algorithms"
   ]
  },
  {
   "cell_type": "code",
   "execution_count": 162,
   "metadata": {
    "collapsed": false
   },
   "outputs": [
    {
     "name": "stdout",
     "output_type": "stream",
     "text": [
      "original list: [5, 4, 3, 2, 1]\n",
      "\n",
      "after sorting through the list for the 1 time\n",
      "the list looks like: [4, 3, 2, 1, 5]\n",
      "\n",
      "after sorting through the list for the 2 time\n",
      "the list looks like: [3, 2, 1, 4, 5]\n",
      "\n",
      "after sorting through the list for the 3 time\n",
      "the list looks like: [2, 1, 3, 4, 5]\n",
      "\n",
      "after sorting through the list for the 4 time\n",
      "the list looks like: [1, 2, 3, 4, 5]\n",
      "\n"
     ]
    }
   ],
   "source": [
    "sample_list = [5,4,3,2,1]\n",
    "print \"original list: \" + str(sample_list)\n",
    "print \"\"\n",
    "for x in range(len(sample_list)-1):\n",
    "    print \"after sorting through the list for the \" + str(x+1) + \" time\"\n",
    "    for y in range(len(sample_list)-1):\n",
    "        if sample_list[y+1] < sample_list[y]:\n",
    "            sample_list[y], sample_list[y+1] = sample_list[y+1],sample_list[y]\n",
    "    print \"the list looks like: \" + str(sample_list)\n",
    "    print \"\""
   ]
  },
  {
   "cell_type": "markdown",
   "metadata": {},
   "source": [
    "## Selection Sort "
   ]
  },
  {
   "cell_type": "markdown",
   "metadata": {},
   "source": [
    "Putting the smallest number of the unsorted portion of the list to the end of the sorted portion of the list. \n",
    "* http://www.algolist.net/Algorithms/Sorting/Selection_sort\n",
    "* https://www.youtube.com/watch?v=f8hXR_Hvybo (video)"
   ]
  },
  {
   "cell_type": "code",
   "execution_count": 267,
   "metadata": {
    "collapsed": false
   },
   "outputs": [],
   "source": [
    "# keep swapping numbers in the same list \n",
    "def selection_sort1(unsorted):\n",
    "    for x in range(len(unsorted)):\n",
    "        smallest = min(unsorted[x:]) \n",
    "        min_index = unsorted[x:].index(smallest) \n",
    "        unsorted[x+min_index] = unsorted[x] \n",
    "        unsorted[x] = smallest\n",
    "    return unsorted "
   ]
  },
  {
   "cell_type": "code",
   "execution_count": 268,
   "metadata": {
    "collapsed": false
   },
   "outputs": [
    {
     "name": "stdout",
     "output_type": "stream",
     "text": [
      "[-6, 2, 2, 3, 8]\n"
     ]
    }
   ],
   "source": [
    "l = [8, 2, 3, 2, -6]\n",
    "print selection_sort1(l)"
   ]
  },
  {
   "cell_type": "code",
   "execution_count": 269,
   "metadata": {
    "collapsed": true
   },
   "outputs": [],
   "source": [
    "# keep swapping numbers in the same list, use another way of swapping \n",
    "def selection_sort2(unsorted): \n",
    "    for x in range(len(unsorted)):\n",
    "        smallest = min(unsorted[x:]) \n",
    "        min_index = unsorted[x:].index(smallest)\n",
    "        unsorted[x+min_index], unsorted[x] = unsorted[x], unsorted[x+min_index]\n",
    "    return unsorted"
   ]
  },
  {
   "cell_type": "code",
   "execution_count": 270,
   "metadata": {
    "collapsed": false
   },
   "outputs": [
    {
     "name": "stdout",
     "output_type": "stream",
     "text": [
      "[-6, 2, 2, 3, 8]\n"
     ]
    }
   ],
   "source": [
    "l = [8, 2, 3, 2, -6]\n",
    "print selection_sort2(l)"
   ]
  },
  {
   "cell_type": "code",
   "execution_count": 289,
   "metadata": {
    "collapsed": true
   },
   "outputs": [],
   "source": [
    "# make a temp copy of the list and swap between lists\n",
    "def selection_sort3(unsorted): \n",
    "    sorted_list = []\n",
    "    for x in range(len(unsorted)):\n",
    "        smallest = min(unsorted) \n",
    "        sorted_list.append(smallest)\n",
    "        unsorted.remove(smallest)\n",
    "    return sorted_list"
   ]
  },
  {
   "cell_type": "code",
   "execution_count": 290,
   "metadata": {
    "collapsed": false
   },
   "outputs": [
    {
     "name": "stdout",
     "output_type": "stream",
     "text": [
      "[-6, 2, 2, 3, 8]\n"
     ]
    }
   ],
   "source": [
    "l = [8, 2, 3, 2, -6]\n",
    "print selection_sort3(l)"
   ]
  },
  {
   "cell_type": "markdown",
   "metadata": {},
   "source": [
    "### * note"
   ]
  },
  {
   "cell_type": "code",
   "execution_count": 234,
   "metadata": {
    "collapsed": true
   },
   "outputs": [],
   "source": [
    "# the reason bubble sort swapping doesn't work here is because when there are multiple numbers, \n",
    "# the function \"gets confused\" on the smallest\n",
    "def selection_sort_failed(unsorted): \n",
    "    for x in range(len(unsorted)):\n",
    "        min_index = unsorted.index(min(unsorted[x:]))\n",
    "        unsorted[x], unsorted[min_index] = unsorted[min_index], unsorted[x]\n",
    "    return unsorted"
   ]
  },
  {
   "cell_type": "code",
   "execution_count": 235,
   "metadata": {
    "collapsed": false
   },
   "outputs": [
    {
     "name": "stdout",
     "output_type": "stream",
     "text": [
      "[-6, 2, 3, 4, 8]\n"
     ]
    }
   ],
   "source": [
    "# seems like it works\n",
    "l = [8, 2, 3, 4, -6]\n",
    "print selection_sort_failed(l)"
   ]
  },
  {
   "cell_type": "code",
   "execution_count": 236,
   "metadata": {
    "collapsed": false
   },
   "outputs": [
    {
     "name": "stdout",
     "output_type": "stream",
     "text": [
      "[-6, 3, 2, 2, 8]\n"
     ]
    }
   ],
   "source": [
    "# but it actually won't work when there are multiple numbers that are the same \n",
    "l = [8, 2, 3, 2, -6]\n",
    "print selection_sort_failed(l)"
   ]
  },
  {
   "cell_type": "markdown",
   "metadata": {},
   "source": [
    "### * Steps of the sorting algorithms"
   ]
  },
  {
   "cell_type": "code",
   "execution_count": 292,
   "metadata": {
    "collapsed": false
   },
   "outputs": [
    {
     "name": "stdout",
     "output_type": "stream",
     "text": [
      "Original list is:[]\n",
      "When it sorts through the list for the 1 time\n",
      "The smallest number is -6 and its index is 4 in list: [-6, 2, 2, 3, 8]\n",
      "After switching the smallest and current number, the list is: [-6, 2, 2, 3, 8]\n",
      "\n",
      "When it sorts through the list for the 2 time\n",
      "The smallest number is 2 and its index is 0 in list: [2, 2, 3, 8]\n",
      "After switching the smallest and current number, the list is: [-6, 2, 2, 3, 8]\n",
      "\n",
      "When it sorts through the list for the 3 time\n",
      "The smallest number is 2 and its index is 1 in list: [2, 3, 8]\n",
      "After switching the smallest and current number, the list is: [-6, 2, 2, 3, 8]\n",
      "\n",
      "When it sorts through the list for the 4 time\n",
      "The smallest number is 3 and its index is 0 in list: [3, 8]\n",
      "After switching the smallest and current number, the list is: [-6, 2, 2, 3, 8]\n",
      "\n",
      "When it sorts through the list for the 5 time\n",
      "The smallest number is 8 and its index is 0 in list: [8]\n",
      "After switching the smallest and current number, the list is: [-6, 2, 2, 3, 8]\n",
      "\n"
     ]
    }
   ],
   "source": [
    "# using the same list\n",
    "sample_list = [8, 2, 3, 2, -6]\n",
    "print \"Original list is:\" + str(l)\n",
    "for x in range(len(sample_list)):\n",
    "    print \"When it sorts through the list for the \" + str(x+1) + \" time\"\n",
    "    smallest = min(sample_list[x:]) \n",
    "    min_index = sample_list[x:].index(smallest)\n",
    "    print \"The smallest number is \" + str(smallest) + \" and its index is \" + str(min_index) + \" in list: \" + str(unsorted[x:])\n",
    "    sample_list[x+min_index], sample_list[x] = sample_list[x], sample_list[x+min_index]\n",
    "    print \"After switching the smallest and current number, the list is: \" + str(unsorted)\n",
    "    print \n",
    "    "
   ]
  },
  {
   "cell_type": "code",
   "execution_count": 296,
   "metadata": {
    "collapsed": false
   },
   "outputs": [
    {
     "name": "stdout",
     "output_type": "stream",
     "text": [
      "When it sorts through the list for the 1 time\n",
      "The smallest number is -6\n",
      "Add the smallest number to the sorted portion: [-6]\n",
      "And here is what is left in the unsorted portion: [8, 2, 3, 2]\n",
      "\n",
      "When it sorts through the list for the 2 time\n",
      "The smallest number is 2\n",
      "Add the smallest number to the sorted portion: [-6, 2]\n",
      "And here is what is left in the unsorted portion: [8, 3, 2]\n",
      "\n",
      "When it sorts through the list for the 3 time\n",
      "The smallest number is 2\n",
      "Add the smallest number to the sorted portion: [-6, 2, 2]\n",
      "And here is what is left in the unsorted portion: [8, 3]\n",
      "\n",
      "When it sorts through the list for the 4 time\n",
      "The smallest number is 3\n",
      "Add the smallest number to the sorted portion: [-6, 2, 2, 3]\n",
      "And here is what is left in the unsorted portion: [8]\n",
      "\n",
      "When it sorts through the list for the 5 time\n",
      "The smallest number is 8\n",
      "Add the smallest number to the sorted portion: [-6, 2, 2, 3, 8]\n",
      "And here is what is left in the unsorted portion: []\n",
      "\n"
     ]
    }
   ],
   "source": [
    "# using a temp list to hold sorted elements\n",
    "sample_list = [8, 2, 3, 2, -6]\n",
    "sorted_portion = []\n",
    "for x in range(len(sample_list)):\n",
    "    print \"When it sorts through the list for the \" + str(x+1) + \" time\"\n",
    "    smallest = min(sample_list) \n",
    "    print \"The smallest number is \" + str(smallest)\n",
    "    sorted_portion.append(smallest) \n",
    "    sample_list.remove(smallest)\n",
    "    print \"Add the smallest number to the sorted portion: \" + str(sorted_portion)\n",
    "    print \"And here is what is left in the unsorted portion: \" + str(sample_list)\n",
    "    print \"\""
   ]
  },
  {
   "cell_type": "markdown",
   "metadata": {},
   "source": [
    "## Insertion Sort"
   ]
  },
  {
   "cell_type": "markdown",
   "metadata": {
    "collapsed": true
   },
   "source": [
    "Taking the first number of the unsorted portion and put it to where it's supposed to be in the sorted portion of the list. \n",
    "* http://www.algolist.net/Algorithms/Sorting/Insertion_sort\n",
    "* https://www.youtube.com/watch?v=DFG-XuyPYUQ (video)"
   ]
  },
  {
   "cell_type": "code",
   "execution_count": 425,
   "metadata": {
    "collapsed": true
   },
   "outputs": [],
   "source": [
    "def insertion_sort(unsorted):    \n",
    "    unsorted = [8, 2, 3, 2, -6]\n",
    "    sorted_list = [unsorted[0]]\n",
    "    for x in range(1, len(unsorted)):\n",
    "        for y in range(len(sorted_list)):\n",
    "            if unsorted[x] < sorted_list[y]:\n",
    "                index = y\n",
    "                break\n",
    "        sorted_list.insert(index, unsorted[x])\n",
    "    return sorted_list"
   ]
  },
  {
   "cell_type": "code",
   "execution_count": 426,
   "metadata": {
    "collapsed": false
   },
   "outputs": [
    {
     "name": "stdout",
     "output_type": "stream",
     "text": [
      "[-6, 2, 2, 3, 8]\n"
     ]
    }
   ],
   "source": [
    "l = random_list(5,-10,10)\n",
    "print insertion_sort(l)"
   ]
  },
  {
   "cell_type": "markdown",
   "metadata": {},
   "source": [
    "### * Steps of the sorting algorithms"
   ]
  },
  {
   "cell_type": "code",
   "execution_count": 438,
   "metadata": {
    "collapsed": false
   },
   "outputs": [
    {
     "name": "stdout",
     "output_type": "stream",
     "text": [
      "Start sorting from the second item in the list.\n",
      "When it sorts through the list for the 1 time\n",
      "The current value 2 is being placed in its right location of list [8]\n",
      "The right location is 0\n",
      "After placing the current number, the sorted portion looks like [2, 8]\n",
      "\n",
      "When it sorts through the list for the 2 time\n",
      "The current value 3 is being placed in its right location of list [2, 8]\n",
      "The right location is 1\n",
      "After placing the current number, the sorted portion looks like [2, 3, 8]\n",
      "\n",
      "When it sorts through the list for the 3 time\n",
      "The current value 2 is being placed in its right location of list [2, 3, 8]\n",
      "The right location is 1\n",
      "After placing the current number, the sorted portion looks like [2, 2, 3, 8]\n",
      "\n",
      "When it sorts through the list for the 4 time\n",
      "The current value -6 is being placed in its right location of list [2, 2, 3, 8]\n",
      "The right location is 0\n",
      "After placing the current number, the sorted portion looks like [-6, 2, 2, 3, 8]\n",
      "\n"
     ]
    }
   ],
   "source": [
    "unsorted = [8, 2, 3, 2, -6]\n",
    "sorted_list = [unsorted[0]]\n",
    "print \"Start sorting from the second item in the list.\"\n",
    "for x in range(1, len(unsorted)):\n",
    "    print \"When it sorts through the list for the \" + str(x) + \" time\"\n",
    "    print \"The current value \" + str(unsorted[x]) + \" is being placed in its right location of list \" + str(sorted_list)\n",
    "    for y in range(len(sorted_list)):\n",
    "        if unsorted[x] < sorted_list[y]:\n",
    "            index = y\n",
    "            break\n",
    "    print \"The right location is \" + str(index)\n",
    "    sorted_list.insert(index, unsorted[x])        \n",
    "    print \"After placing the current number, the sorted portion looks like \" + str(sorted_list)\n",
    "    print "
   ]
  },
  {
   "cell_type": "code",
   "execution_count": null,
   "metadata": {
    "collapsed": false
   },
   "outputs": [],
   "source": []
  }
 ],
 "metadata": {
  "kernelspec": {
   "display_name": "Python 2",
   "language": "python",
   "name": "python2"
  },
  "language_info": {
   "codemirror_mode": {
    "name": "ipython",
    "version": 2
   },
   "file_extension": ".py",
   "mimetype": "text/x-python",
   "name": "python",
   "nbconvert_exporter": "python",
   "pygments_lexer": "ipython2",
   "version": "2.7.12"
  }
 },
 "nbformat": 4,
 "nbformat_minor": 0
}
